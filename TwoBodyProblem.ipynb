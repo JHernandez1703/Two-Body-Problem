{
 "cells": [
  {
   "cell_type": "code",
   "execution_count": 4,
   "metadata": {},
   "outputs": [
    {
     "name": "stdout",
     "output_type": "stream",
     "text": [
      "Using matplotlib backend: Qt5Agg\n"
     ]
    }
   ],
   "source": [
    "import numpy as np\n",
    "import matplotlib.pyplot as plt\n",
    "%matplotlib auto\n",
    "import matplotlib.animation as animation"
   ]
  },
  {
   "cell_type": "markdown",
   "metadata": {},
   "source": [
    "# CASO GENERAL"
   ]
  },
  {
   "cell_type": "code",
   "execution_count": 2,
   "metadata": {},
   "outputs": [
    {
     "data": {
      "text/plain": [
       "<function matplotlib.pyplot.show(*, block=None)>"
      ]
     },
     "execution_count": 2,
     "metadata": {},
     "output_type": "execute_result"
    }
   ],
   "source": [
    "m1=1 #Valor de la masas 1\n",
    "m2=3 #Valor de la masa 2\n",
    "r0=1 #Valor es el correspondiente al radio de la orbita circular para los valores de L, μ y C. \n",
    "e=0.6 #malor correspondiente a la exentricidad en termonos de E, L, μ, C\n",
    "\n",
    "n=1000 #Iteraciones para la graficación \n",
    "theta=np.linspace(0,360,n+1) #Lista en la que se almacenan los valores de angulo que se meteran a las ecuaciones para\n",
    "                            #graficación\n",
    "\n",
    "#Las funciones se encargan de calcular los datos para cada correspondiente theta y almacenarlos para la graficación\n",
    "\n",
    "def r(theta):\n",
    "    return r0/(1-e*np.cos(theta*(np.pi/180))) #Valor del radio con respecto a theta\n",
    "\n",
    "def x1(theta):\n",
    "    return r(theta)*np.cos(theta*(np.pi/180))*m2/(m2+m1) #Valor del en la componente x con respecto a theta y el radio de la\n",
    "                                                        #particula 1\n",
    "def y1(theta):\n",
    "    return r(theta)*np.sin(theta*(np.pi/180))*m2/(m2+m1) #Valor del en la componente y con respecto a theta y el radio de la\n",
    "                                                        #particula 1\n",
    "\n",
    "def x2(theta):\n",
    "    return r(theta)*np.cos(theta*(np.pi/180))*m1/(m2+m1) #Valor del en la componente x con respecto a theta y el radio de la\n",
    "                                                        #particula 2\n",
    "def y2(theta):\n",
    "    return r(theta)*np.sin(theta*(np.pi/180))*m1/(m2+m1) #Valor del en la componente y con respecto a theta y el radio de la\n",
    "                                                        #particula 2\n",
    "\n",
    "\n",
    "\"\"\"\n",
    "def f1(x):\n",
    "    return np.sqrt((r0+e*x)**2-x**2)\n",
    "\n",
    "def f2(x):\n",
    "    return -np.sqrt((r0+e*x)**2-x**2)\n",
    "\"\"\"\n",
    "\n",
    "plt.plot(x1(theta),y1(theta),\"b\") #graficación de movimiento para la particula 1\n",
    "plt.plot(-x2(theta),-y2(theta),\"r\") #graficación de movimiento para la particula 2\n",
    "plt.plot(0,0, marker=\"o\", color=\"black\")\n",
    "#plt.plot(a+c,0, marker=\"o\", color=\"red\")\n",
    "#plt.plot(0,r0, marker=\"o\", color=\"red\")\n",
    "#plt.plot(c-a,0, marker=\"o\", color=\"red\")\n",
    "plt.title(\"d vs we\") #Título de la gráfica\n",
    "plt.ylabel(\"d (u,a)\") #título o nombre para el eje vertical de la gráfica\n",
    "plt.xlabel(\"we (s)\") #título o nombre para el eje horizontal de la grafica\n",
    "plt.show #Mostrar gráfica"
   ]
  },
  {
   "cell_type": "code",
   "execution_count": 3,
   "metadata": {},
   "outputs": [],
   "source": [
    "#Debido a la gran cantidad de iteraciones que hace el programa para la graficación se dismunuye estas para que el movimiento en\n",
    "#la animación no se vea tan lento y x cumple la misma función que en los if. Realizando esta para un giro completo de 360 grados\n",
    "n=360\n",
    "theta=np.linspace(0,360,n+1) #Lista en la que se almacenan los valores de angulo que se meteran a las ecuaciones para\n",
    "                            #animación\n",
    "#x2=np.linspace(X,c-a,n+1)\n",
    "#s=np.linspace(c-a,2*X,n+1)\n",
    "\n",
    "fig=plt.figure() # crear la figura\n",
    "ax=fig.gca() # Hacer los ejes\n",
    "\n",
    "#Los siguentes tres valores con los if y elid se encargan de evaluar cual de las dos graficas tiene un mayor valor para el\n",
    "#eje mayor y así realizar el tamaño de la grafica indicado para las animaciones\n",
    "\n",
    "n=r0/(1-e*np.cos(0))\n",
    "s1=n*np.cos(0)*m2/(m2+m1)\n",
    "s2=n*np.cos(0)*m1/(m2+m1)\n",
    "\n",
    "if e<1:\n",
    "    if s1<s2:\n",
    "        s1=s2\n",
    "        s2=s2\n",
    "    #\n",
    "    if s2<s1:\n",
    "        s1=s1\n",
    "        s2=s1\n",
    "    #\n",
    "#\n",
    "elif e>=1:\n",
    "    s1=200\n",
    "    s2=20000\n",
    "#\n",
    "\n",
    "# función que se encarga de realizar la animación\n",
    "def actualizar(i):\n",
    "    ax.clear() #borrar el contenido de la gráfica\n",
    "    plt.plot(x1(theta[i]),y1(theta[i]),'ro') #Dibijar el punto para la particula 1 con las ecuaciones de las funciones\n",
    "    #if x1[i]==a+c:\n",
    "    plt.plot(-x2(theta[i]),-y2(theta[i]),'ro') #Dibijar el punto para la particula 2 con las ecuaciones de las funciones\n",
    "    plt.plot(0,0,'bo') #Dibujo del foco de las elipses (o CM)\n",
    "    #plt.plot((r0*e)/(1-e**2),0,'ro')\n",
    "    plt.title(str(round(theta[i],2))) #Muestra para qué valor de theta coresponde el punto\n",
    "    plt.ylim(-s1,s1) #Limite de la grafica en el eje y\n",
    "    plt.xlim(-s2,s2) #Limite de la grafica en el eje x\n",
    "\n",
    "ani=animation.FuncAnimation(fig,actualizar,range(len(theta*2))) #La función que se encarga de la animación iterandola en los\n",
    "                                                            #en los valores de theta\n",
    "plt.show() #Mostrar los datos animados"
   ]
  },
  {
   "cell_type": "markdown",
   "metadata": {},
   "source": [
    "# M2>>M1"
   ]
  },
  {
   "cell_type": "code",
   "execution_count": 5,
   "metadata": {},
   "outputs": [],
   "source": [
    "r0=30  #Valor es el correspondiente al radio de la orbita circular para los valores de L, μ y C. \n",
    "e=0.6 #malor correspondiente a la exentricidad en termonos de E, L, μ, C\n",
    "\n",
    "#Usando al ecuación que muestra la forma canónica de la elipse se puede llegar a los valores de eje mayor (2a) y eje menor (2b)\n",
    "\n",
    "#Estos valores que se van a obtener por medio de los if son necesarios para ajustar una escala que permita ver el movimmiento\n",
    "# del objeto objeto en la animación \n",
    "\n",
    "if e < 1: # Datos necesarios para cuando la orbita es cerrada (circular o elíptica)\n",
    "    a1=r0**2/(1-e**2)+((r0*e)**2)/((1-e**2)**2) #resulta obtenido en el denominador de la ecuación canónica para el eje mayor\n",
    "    a=np.sqrt(a1) #Distancia dividida en dos del eje mayor\n",
    "    b1=r0**2+((r0*e)**2)/((1-e**2)) #resulta obtenido en el denominador de la ecuación canónica para el eje menor\n",
    "    b=np.sqrt(b1) #Distancia dividida en dos del eje menor\n",
    "    c=(r0*e)/(1-e**2) #Valor corespondiente a la distancia desde el centro de la elipce hasta el foco\n",
    "    X=a+c #Distancia que hay del foco a al vertice más lejano\n",
    "    n=10000 #Numero de iteraciones para realizar los puntos de la gráfica\n",
    "    x=np.linspace(c-a,X,n+1) #Como están definidos los los valores de los vertices para se usa\n",
    "#\n",
    "if e==1 : #Datos necesarios para cundo la orbita es parabólica, en este caso los valores de a, b y c no corresponden a\n",
    "    # alguna propiedad del movimiento orbital, y, n y x tienen la misma funció para cuando la orbita es cerrada\n",
    "    a=r0/2 \n",
    "    b=100\n",
    "    c=0\n",
    "    X=a+c\n",
    "    n=100000\n",
    "    x=np.linspace(c-a,X,n+1)\n",
    "#\n",
    "if e > 1: #Datos necesarios para cuendo la orbita sigue un movimiento hiperbólico a y b coresponde a propiedades \n",
    "    # la ecuación canónica de la hiperbola, y finalmente, n y x cumplen la misma función que en los anteriores dos if\n",
    "    a1=r0**2/(1-e**2)+((r0*e)**2)/((1-e**2)**2) \n",
    "    a=np.sqrt(a1)\n",
    "    b1=-(r0**2+((r0*e)**2)/((1-e**2)))\n",
    "    b=-np.sqrt(b1)\n",
    "    b=b*3\n",
    "    c=a/2\n",
    "    X=a+c\n",
    "    n=100000\n",
    "    x=np.linspace(c-a,X,n+1)\n",
    "#\n",
    "\n",
    "# las sifuientes dos funciones so las que van a calcular las posiciones del eje vertical, como la función es una raíz se\n",
    "# solo se va a encargar de grafiar el lado positivo de la función, para eso se agrega la segunde f2 con el signo negativo\n",
    "\n",
    "def f1(x): \n",
    "    return np.sqrt((r0+e*x)**2-x**2)\n",
    "\n",
    "def f2(x):\n",
    "    return -np.sqrt((r0+e*x)**2-x**2)\n",
    "\n",
    "\n",
    "\n",
    "plt.plot(x,f1(x),\"b\") #La primera mitad del movimiento orbital\n",
    "plt.plot(x,f2(x),\"b\") #la segunda mitad del movimiento orbital\n",
    "plt.plot(0,0, marker=\"o\", color=\"black\") # foco de la orbita o segunda masa de valor superior\n",
    "#plt.plot(a+c,0, marker=\"o\", color=\"red\")\n",
    "#plt.plot(0,r0, marker=\"o\", color=\"red\")\n",
    "#plt.plot(c-a,0, marker=\"o\", color=\"red\")\n",
    "plt.title(\"d vs we\") #Título de la gráfica\n",
    "plt.ylabel(\"d (u,a)\") #título o nombre para el eje vertical de la gráfica\n",
    "plt.xlabel(\"we (s)\") #título o nombre para el eje horizontal de la grafica\n",
    "plt.show() #Mostrar gráfica"
   ]
  },
  {
   "cell_type": "code",
   "execution_count": 6,
   "metadata": {},
   "outputs": [
    {
     "name": "stderr",
     "output_type": "stream",
     "text": [
      "<ipython-input-5-952e9b3d56ab>:48: RuntimeWarning: invalid value encountered in sqrt\n",
      "  return -np.sqrt((r0+e*x)**2-x**2)\n"
     ]
    }
   ],
   "source": [
    "#Debido a la gran cantidad de iteraciones que hace el programa para la graficación se dismunuye estas para que el movimiento en\n",
    "#la animación no se vea tan lento y x cumple la misma función que en los if\n",
    "n=200 \n",
    "x=np.linspace(c-a,X*2-c+a,n+1)\n",
    "#x2=np.linspace(X,c-a,n+1)\n",
    "#s=np.linspace(c-a,2*X,n+1)\n",
    "\n",
    "fig=plt.figure()# crear la figura\n",
    "ax=fig.gca()# Hacer los ejes\n",
    "\n",
    "# función que se encarga de realizar la animación\n",
    "def actualizar(i):\n",
    "    ax.clear()#borrar el contenido de la gráfica\n",
    "    \n",
    "    #Debido a que la graficación se hace en coordenadas cartecianas se necesita de dos funciones que grafiquen los puntos. \n",
    "    #Esto ya que la funciones que dan a f(x) cuentan con una raíz y solamenta va a graficar el lado positivo \n",
    "    \n",
    "    plt.plot(2*c-x[i],f1(2*c-x[i]),'ro') # Se encarga de graficar uno de los lados y acomoda el siste para que inicie la\n",
    "                                        #graficación correctamente\n",
    "    #if x1[i]==a+c:\n",
    "    plt.plot((x[i]-2*a),f2((x[i]-2*a)),'ro') # Se encarga de graficar el lado opuesto al anterior y acomoda el siste para\n",
    "                                            #que inicie la graficación correctamente y también acomodando los datos graficados\n",
    "                                            #para que empiece su graficación en el momento indicado para todos los casos\n",
    "    plt.plot(0,0,'ro') #Dibujo del foco de la elipse\n",
    "    #plt.plot((r0*e)/(1-e**2),0,'ro')\n",
    "    plt.title(str(round(x[i],2))) #Muestra qué punto del eje x está graficando\n",
    "    plt.ylim(b,-b) #Limite de la grafica en el eje y\n",
    "    plt.xlim(c-a-5,c+a+5) #Limite de la grafica en el eje x\n",
    "\n",
    "ani=animation.FuncAnimation(fig,actualizar,range(len(x*2))) #La función que se encarga de la animación iterandola en los\n",
    "                                                            #en los valores del eje x\n",
    "plt.show() #Mostrar los datos animados"
   ]
  },
  {
   "cell_type": "code",
   "execution_count": null,
   "metadata": {},
   "outputs": [],
   "source": []
  }
 ],
 "metadata": {
  "kernelspec": {
   "display_name": "Python 3",
   "language": "python",
   "name": "python3"
  },
  "language_info": {
   "codemirror_mode": {
    "name": "ipython",
    "version": 3
   },
   "file_extension": ".py",
   "mimetype": "text/x-python",
   "name": "python",
   "nbconvert_exporter": "python",
   "pygments_lexer": "ipython3",
   "version": "3.8.5"
  }
 },
 "nbformat": 4,
 "nbformat_minor": 4
}
